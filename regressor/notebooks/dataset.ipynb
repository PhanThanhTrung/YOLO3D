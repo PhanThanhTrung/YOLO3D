{
 "cells": [
  {
   "cell_type": "code",
   "execution_count": null,
   "metadata": {},
   "outputs": [],
   "source": [
    "from pathlib import Path\n",
    "import os"
   ]
  },
  {
   "cell_type": "code",
   "execution_count": null,
   "metadata": {},
   "outputs": [],
   "source": [
    "PATH = Path(os.getcwd())\n",
    "NEW_PATH = PATH / 'image' / 'satu'\n",
    "\n",
    "print(NEW_PATH)"
   ]
  },
  {
   "cell_type": "markdown",
   "metadata": {},
   "source": [
    "## Angle Bins"
   ]
  },
  {
   "cell_type": "code",
   "execution_count": null,
   "metadata": {},
   "outputs": [],
   "source": [
    "import numpy as np\n",
    "\n",
    "def generate_bins(bins):\n",
    "    angle_bins = np.zeros(bins)\n",
    "    interval = 2 * np.pi / bins\n",
    "    for i in range(1, bins):\n",
    "        angle_bins[i] = i * interval\n",
    "    angle_bins += interval / 2 # center of bins\n",
    "\n",
    "    return angle_bins\n",
    "\n",
    "angle_bins = generate_bins(2)\n",
    "print(angle_bins)"
   ]
  },
  {
   "cell_type": "code",
   "execution_count": null,
   "metadata": {},
   "outputs": [],
   "source": []
  }
 ],
 "metadata": {
  "interpreter": {
   "hash": "1cb2150678cc1785ad2fd1c144ed3540d41d0f38f36f5c06ddb71aec6f109d2f"
  },
  "kernelspec": {
   "display_name": "Python 3.8.13",
   "language": "python",
   "name": "python3"
  },
  "language_info": {
   "codemirror_mode": {
    "name": "ipython",
    "version": 3
   },
   "file_extension": ".py",
   "mimetype": "text/x-python",
   "name": "python",
   "nbconvert_exporter": "python",
   "pygments_lexer": "ipython3",
   "version": "3.8.13"
  }
 },
 "nbformat": 4,
 "nbformat_minor": 2
}
